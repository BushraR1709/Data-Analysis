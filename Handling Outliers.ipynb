{
 "cells": [
  {
   "cell_type": "markdown",
   "id": "ac94d50f-4690-4649-abf9-6b9b20faf30e",
   "metadata": {},
   "source": [
    "# Handling Outliers With Python"
   ]
  },
  {
   "cell_type": "markdown",
   "id": "39ddebc6-e897-4d47-98b1-8ae00668dc3a",
   "metadata": {},
   "source": [
    "##### Outliers are data points that differ significantly from other observations in a dataset. They can be unusually high or low values and may \n",
    "##### indicate errors,variability, or rare occurrences. Outliers can skew results, so it's essential to identify and handle them carefully.\n",
    "\n"
   ]
  },
  {
   "cell_type": "markdown",
   "id": "987c6e0b-9563-49a8-87ed-2d9d1b21619c",
   "metadata": {},
   "source": [
    "##### In Python, we can handle outliers by using the IQR method to identify and filter them:\n",
    "\n",
    "##### 1. **Calculate the IQR :** Find the first quartile (Q1) and third quartile (Q3), then compute the IQR as Q3 - Q1.\n",
    "##### 2. **Define Outlier Boundaries :** Determine the lower and upper bounds as Q1 - 1.5 * IQR and Q3 + 1.5 * IQR.\n",
    "##### 3. **Remove Outliers :** Filter out data points that fall outside these bounds."
   ]
  },
  {
   "cell_type": "markdown",
   "id": "91211cfb-0e41-4ef1-88ef-bfcb5002431e",
   "metadata": {},
   "source": [
    "### Handling Outliers with a Boxplot: \n",
    "##### A boxplot visually shows the data distribution and highlights outliers as points outside the \"whiskers\" of the box.\n",
    "##### The whiskers typically extend to 1.5 times the interquartile range (IQR)\n",
    "##### from the quartiles, and any points beyond this range are considered outliers.\n",
    "##### You can decide to remove, cap, or transform these points based on the boxplot insights to improve data quality."
   ]
  },
  {
   "cell_type": "markdown",
   "id": "3b710a6d-3ac1-4de7-a3d3-ca1df27d0ebb",
   "metadata": {},
   "source": [
    "### 5 Number Summary and Box Plot\n",
    "#### Minimun, Q1, Median, Q3, Maximun"
   ]
  },
  {
   "cell_type": "code",
   "execution_count": 1,
   "id": "078f2c99-0785-47ce-8876-fd0e16d435a6",
   "metadata": {},
   "outputs": [],
   "source": [
    "import numpy as np"
   ]
  },
  {
   "cell_type": "code",
   "execution_count": 6,
   "id": "d6d0f4f4-b04a-4240-b229-9559a77e8771",
   "metadata": {},
   "outputs": [],
   "source": [
    "marks = [45,32,56,75,89,54,32,89,90,87,67,54,45,98,99,67,74]\n",
    "minimum,Q1,median,Q3,maximum = np.quantile(marks,[0,0.25,0.50,0.75,1.0])"
   ]
  },
  {
   "cell_type": "code",
   "execution_count": 7,
   "id": "968a51f1-d0f8-431d-bc4c-b4b9b7d250f2",
   "metadata": {},
   "outputs": [
    {
     "data": {
      "text/plain": [
       "(np.float64(32.0),\n",
       " np.float64(54.0),\n",
       " np.float64(67.0),\n",
       " np.float64(89.0),\n",
       " np.float64(99.0))"
      ]
     },
     "execution_count": 7,
     "metadata": {},
     "output_type": "execute_result"
    }
   ],
   "source": [
    "minimum,Q1,median,Q3,maximum"
   ]
  },
  {
   "cell_type": "code",
   "execution_count": 8,
   "id": "35b3fbfd-eb35-4244-b8e2-5ccf633642fc",
   "metadata": {},
   "outputs": [
    {
     "name": "stdout",
     "output_type": "stream",
     "text": [
      "35.0\n"
     ]
    }
   ],
   "source": [
    "IQR = Q3-Q1\n",
    "print(IQR)"
   ]
  },
  {
   "cell_type": "code",
   "execution_count": 9,
   "id": "e1a17ad8-f5cf-4416-8f22-ffff835a67d5",
   "metadata": {},
   "outputs": [],
   "source": [
    "#anything that is higher than the higher fence & anything that is lower than lower fence will be considered as outliers"
   ]
  },
  {
   "cell_type": "code",
   "execution_count": 14,
   "id": "d0412d40-adf8-4a50-981e-e426a105d655",
   "metadata": {},
   "outputs": [],
   "source": [
    "lower_fence=Q1-1.5*(IQR)\n",
    "higher_fence=Q3+1.5*(IQR)"
   ]
  },
  {
   "cell_type": "code",
   "execution_count": 15,
   "id": "a45cf3d3-df27-4cdf-bee1-7f2ccbf17d13",
   "metadata": {},
   "outputs": [
    {
     "data": {
      "text/plain": [
       "np.float64(1.5)"
      ]
     },
     "execution_count": 15,
     "metadata": {},
     "output_type": "execute_result"
    }
   ],
   "source": [
    "lower_fence"
   ]
  },
  {
   "cell_type": "code",
   "execution_count": 16,
   "id": "bf8243c3-3d11-488d-b353-6dc65f184cb3",
   "metadata": {},
   "outputs": [
    {
     "data": {
      "text/plain": [
       "np.float64(141.5)"
      ]
     },
     "execution_count": 16,
     "metadata": {},
     "output_type": "execute_result"
    }
   ],
   "source": [
    "higher_fence"
   ]
  },
  {
   "cell_type": "code",
   "execution_count": 18,
   "id": "011671fc-603b-4d3f-ba52-2f992d59e807",
   "metadata": {},
   "outputs": [],
   "source": [
    "import seaborn as sns"
   ]
  },
  {
   "cell_type": "code",
   "execution_count": 20,
   "id": "bb3872f1-87c9-464a-b420-9e5da6c7bb07",
   "metadata": {},
   "outputs": [
    {
     "data": {
      "text/plain": [
       "<Axes: >"
      ]
     },
     "execution_count": 20,
     "metadata": {},
     "output_type": "execute_result"
    },
    {
     "data": {
      "image/png": "[encoded data removed]",
      "text/plain": [
       "<Figure size 640x480 with 1 Axes>"
      ]
     },
     "metadata": {},
     "output_type": "display_data"
    }
   ],
   "source": [
    "sns.boxplot(marks)"
   ]
  },
  {
   "cell_type": "markdown",
   "id": "679f5b62-9ed0-47ce-8503-66691e1763b4",
   "metadata": {},
   "source": [
    "#### Marks with outliers"
   ]
  },
  {
   "cell_type": "code",
   "execution_count": 29,
   "id": "ee06f11a-e699-41bc-b48e-85363d1a2006",
   "metadata": {},
   "outputs": [],
   "source": [
    "marks_1 = [-150,-100,45,32,56,75,89,54,32,89,90,87,67,54,45,98,99,67,74,200,300]"
   ]
  },
  {
   "cell_type": "code",
   "execution_count": 30,
   "id": "5fca327b-ca9e-486e-a9b4-6fbc1de95ce3",
   "metadata": {},
   "outputs": [
    {
     "data": {
      "text/plain": [
       "<Axes: >"
      ]
     },
     "execution_count": 30,
     "metadata": {},
     "output_type": "execute_result"
    },
    {
     "data": {
      "image/png": "[encoded data removed]",
      "text/plain": [
       "<Figure size 640x480 with 1 Axes>"
      ]
     },
     "metadata": {},
     "output_type": "display_data"
    }
   ],
   "source": [
    "sns.boxplot(marks_1)"
   ]
  },
  {
   "cell_type": "code",
   "execution_count": null,
   "id": "5a88c059-36a9-480b-b259-f8355596b399",
   "metadata": {},
   "outputs": [],
   "source": []
  }
 ],
 "metadata": {
  "kernelspec": {
   "display_name": "Python 3 (ipykernel)",
   "language": "python",
   "name": "python3"
  },
  "language_info": {
   "codemirror_mode": {
    "name": "ipython",
    "version": 3
   },
   "file_extension": ".py",
   "mimetype": "text/x-python",
   "name": "python",
   "nbconvert_exporter": "python",
   "pygments_lexer": "ipython3",
   "version": "3.13.0"
  }
 },
 "nbformat": 4,
 "nbformat_minor": 5
}
