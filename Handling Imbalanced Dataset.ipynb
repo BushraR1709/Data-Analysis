{
 "cells": [
  {
   "cell_type": "markdown",
   "id": "280b2460-e891-4a1f-aead-43af3ac537d4",
   "metadata": {},
   "source": [
    "# Handling Imbalanced Dataset"
   ]
  },
  {
   "cell_type": "markdown",
   "id": "ac10f0ed-1ed3-4f57-9db0-c5677ffa10b4",
   "metadata": {},
   "source": [
    "An imbalanced dataset is one where certain classes or outcomes have much fewer instances than others, leading to unequal representation. \n",
    "This can make it hard for models to learn about the minority class, potentially causing poor predictive performance.\n",
    "\n",
    "**1. Up-sampling**: This technique increases the number of samples in the minority class by duplicating or creating synthetic samples, helping the model learn more about the minority class.\n",
    "\n",
    "**2. Down-sampling**: This technique reduces the number of samples in the majority class by randomly removing instances, balancing the classes without adding new data."
   ]
  },
  {
   "cell_type": "code",
   "execution_count": 5,
   "id": "8e25e10a-931c-4549-92a2-b524360c567b",
   "metadata": {},
   "outputs": [
    {
     "name": "stdout",
     "output_type": "stream",
     "text": [
      "Target\n",
      "0    900\n",
      "1    100\n",
      "Name: count, dtype: int64\n"
     ]
    }
   ],
   "source": [
    "#creating imbalanced dataset\n",
    "import pandas as pd\n",
    "import numpy as np\n",
    "\n",
    "# Create an imbalanced dataset with 90% of Class 0 and 10% of Class 1\n",
    "data = pd.DataFrame({\n",
    "    'Feature_1': np.random.normal(0, 1, 1000),\n",
    "    'Feature_2': np.random.normal(0, 1, 1000),\n",
    "    'Target': [0] * 900 + [1] * 100  # 900 samples of Class 0, 100 samples of Class 1\n",
    "})\n",
    "\n",
    "# Shuffle the dataset\n",
    "data = data.sample(frac=1, random_state=1).reset_index(drop=True)\n",
    "\n",
    "# Display the class distribution\n",
    "print(data['Target'].value_counts())\n"
   ]
  },
  {
   "cell_type": "code",
   "execution_count": 6,
   "id": "11921cef-49ec-4acf-9684-8bdd7be8b97e",
   "metadata": {},
   "outputs": [
    {
     "data": {
      "text/html": [
       "<div>\n",
       "<style scoped>\n",
       "    .dataframe tbody tr th:only-of-type {\n",
       "        vertical-align: middle;\n",
       "    }\n",
       "\n",
       "    .dataframe tbody tr th {\n",
       "        vertical-align: top;\n",
       "    }\n",
       "\n",
       "    .dataframe thead th {\n",
       "        text-align: right;\n",
       "    }\n",
       "</style>\n",
       "<table border=\"1\" class=\"dataframe\">\n",
       "  <thead>\n",
       "    <tr style=\"text-align: right;\">\n",
       "      <th></th>\n",
       "      <th>Feature_1</th>\n",
       "      <th>Feature_2</th>\n",
       "      <th>Target</th>\n",
       "    </tr>\n",
       "  </thead>\n",
       "  <tbody>\n",
       "    <tr>\n",
       "      <th>0</th>\n",
       "      <td>0.902587</td>\n",
       "      <td>0.439114</td>\n",
       "      <td>0</td>\n",
       "    </tr>\n",
       "    <tr>\n",
       "      <th>1</th>\n",
       "      <td>1.088333</td>\n",
       "      <td>0.630227</td>\n",
       "      <td>0</td>\n",
       "    </tr>\n",
       "    <tr>\n",
       "      <th>2</th>\n",
       "      <td>-0.977628</td>\n",
       "      <td>0.693316</td>\n",
       "      <td>0</td>\n",
       "    </tr>\n",
       "    <tr>\n",
       "      <th>3</th>\n",
       "      <td>0.606214</td>\n",
       "      <td>-0.297328</td>\n",
       "      <td>0</td>\n",
       "    </tr>\n",
       "    <tr>\n",
       "      <th>4</th>\n",
       "      <td>0.521564</td>\n",
       "      <td>1.079311</td>\n",
       "      <td>0</td>\n",
       "    </tr>\n",
       "  </tbody>\n",
       "</table>\n",
       "</div>"
      ],
      "text/plain": [
       "   Feature_1  Feature_2  Target\n",
       "0   0.902587   0.439114       0\n",
       "1   1.088333   0.630227       0\n",
       "2  -0.977628   0.693316       0\n",
       "3   0.606214  -0.297328       0\n",
       "4   0.521564   1.079311       0"
      ]
     },
     "execution_count": 6,
     "metadata": {},
     "output_type": "execute_result"
    }
   ],
   "source": [
    "data.head()"
   ]
  },
  {
   "cell_type": "code",
   "execution_count": 7,
   "id": "a3f62107-9fe6-469c-af0d-775de524bdb7",
   "metadata": {},
   "outputs": [
    {
     "data": {
      "text/html": [
       "<div>\n",
       "<style scoped>\n",
       "    .dataframe tbody tr th:only-of-type {\n",
       "        vertical-align: middle;\n",
       "    }\n",
       "\n",
       "    .dataframe tbody tr th {\n",
       "        vertical-align: top;\n",
       "    }\n",
       "\n",
       "    .dataframe thead th {\n",
       "        text-align: right;\n",
       "    }\n",
       "</style>\n",
       "<table border=\"1\" class=\"dataframe\">\n",
       "  <thead>\n",
       "    <tr style=\"text-align: right;\">\n",
       "      <th></th>\n",
       "      <th>Feature_1</th>\n",
       "      <th>Feature_2</th>\n",
       "      <th>Target</th>\n",
       "    </tr>\n",
       "  </thead>\n",
       "  <tbody>\n",
       "    <tr>\n",
       "      <th>995</th>\n",
       "      <td>-0.442188</td>\n",
       "      <td>-1.963620</td>\n",
       "      <td>0</td>\n",
       "    </tr>\n",
       "    <tr>\n",
       "      <th>996</th>\n",
       "      <td>-0.846634</td>\n",
       "      <td>0.722629</td>\n",
       "      <td>0</td>\n",
       "    </tr>\n",
       "    <tr>\n",
       "      <th>997</th>\n",
       "      <td>0.642657</td>\n",
       "      <td>-0.523710</td>\n",
       "      <td>1</td>\n",
       "    </tr>\n",
       "    <tr>\n",
       "      <th>998</th>\n",
       "      <td>0.583024</td>\n",
       "      <td>0.236159</td>\n",
       "      <td>0</td>\n",
       "    </tr>\n",
       "    <tr>\n",
       "      <th>999</th>\n",
       "      <td>0.050832</td>\n",
       "      <td>-0.291033</td>\n",
       "      <td>0</td>\n",
       "    </tr>\n",
       "  </tbody>\n",
       "</table>\n",
       "</div>"
      ],
      "text/plain": [
       "     Feature_1  Feature_2  Target\n",
       "995  -0.442188  -1.963620       0\n",
       "996  -0.846634   0.722629       0\n",
       "997   0.642657  -0.523710       1\n",
       "998   0.583024   0.236159       0\n",
       "999   0.050832  -0.291033       0"
      ]
     },
     "execution_count": 7,
     "metadata": {},
     "output_type": "execute_result"
    }
   ],
   "source": [
    "data.tail()"
   ]
  },
  {
   "cell_type": "markdown",
   "id": "f4911394-d15d-4ee8-87cb-45d147544985",
   "metadata": {},
   "source": [
    "## Up sampling Technique"
   ]
  },
  {
   "cell_type": "code",
   "execution_count": 8,
   "id": "b39da67f-d77a-4a46-af94-9f87a7614252",
   "metadata": {},
   "outputs": [],
   "source": [
    "df_minority=data[data['Target']==1]"
   ]
  },
  {
   "cell_type": "code",
   "execution_count": 9,
   "id": "2d20a56b-db69-457a-a6bc-8f4789200403",
   "metadata": {},
   "outputs": [],
   "source": [
    "df_majority=data[data['Target']==0]"
   ]
  },
  {
   "cell_type": "code",
   "execution_count": 10,
   "id": "8caff843-d71d-4710-9856-a2e0e13711b1",
   "metadata": {},
   "outputs": [
    {
     "name": "stdout",
     "output_type": "stream",
     "text": [
      "Requirement already satisfied: scikit-learn in c:\\users\\bushra\\appdata\\local\\programs\\python\\python313\\lib\\site-packages (1.5.2)"
     ]
    },
    {
     "name": "stderr",
     "output_type": "stream",
     "text": [
      "\n",
      "[notice] A new release of pip is available: 24.2 -> 24.3.1\n",
      "[notice] To update, run: python.exe -m pip install --upgrade pip\n"
     ]
    },
    {
     "name": "stdout",
     "output_type": "stream",
     "text": [
      "\n",
      "Requirement already satisfied: numpy>=1.19.5 in c:\\users\\bushra\\appdata\\local\\programs\\python\\python313\\lib\\site-packages (from scikit-learn) (2.1.2)\n",
      "Requirement already satisfied: scipy>=1.6.0 in c:\\users\\bushra\\appdata\\local\\programs\\python\\python313\\lib\\site-packages (from scikit-learn) (1.14.1)\n",
      "Requirement already satisfied: joblib>=1.2.0 in c:\\users\\bushra\\appdata\\local\\programs\\python\\python313\\lib\\site-packages (from scikit-learn) (1.4.2)\n",
      "Requirement already satisfied: threadpoolctl>=3.1.0 in c:\\users\\bushra\\appdata\\local\\programs\\python\\python313\\lib\\site-packages (from scikit-learn) (3.5.0)\n"
     ]
    }
   ],
   "source": [
    "!pip install scikit-learn"
   ]
  },
  {
   "cell_type": "code",
   "execution_count": 11,
   "id": "61e2519d-ecc9-440c-98fc-cfef4feb2ff5",
   "metadata": {},
   "outputs": [],
   "source": [
    "from sklearn.utils import resample"
   ]
  },
  {
   "cell_type": "code",
   "execution_count": 13,
   "id": "9505f9cc-de9a-49bd-86d5-c12851d1f315",
   "metadata": {},
   "outputs": [],
   "source": [
    "df_minority_upsampled= resample(df_minority,replace=True, #sample with replacement\n",
    "          n_samples=len(df_majority),\n",
    "          random_state=42                     \n",
    ")"
   ]
  },
  {
   "cell_type": "code",
   "execution_count": 14,
   "id": "61d6d38d-62e0-4c80-a133-ec54d8cf72e0",
   "metadata": {},
   "outputs": [
    {
     "data": {
      "text/plain": [
       "(900, 3)"
      ]
     },
     "execution_count": 14,
     "metadata": {},
     "output_type": "execute_result"
    }
   ],
   "source": [
    "df_minority_upsampled.shape"
   ]
  },
  {
   "cell_type": "code",
   "execution_count": 15,
   "id": "effff2ff-a562-4273-9a5f-1a296801d993",
   "metadata": {},
   "outputs": [
    {
     "data": {
      "text/html": [
       "<div>\n",
       "<style scoped>\n",
       "    .dataframe tbody tr th:only-of-type {\n",
       "        vertical-align: middle;\n",
       "    }\n",
       "\n",
       "    .dataframe tbody tr th {\n",
       "        vertical-align: top;\n",
       "    }\n",
       "\n",
       "    .dataframe thead th {\n",
       "        text-align: right;\n",
       "    }\n",
       "</style>\n",
       "<table border=\"1\" class=\"dataframe\">\n",
       "  <thead>\n",
       "    <tr style=\"text-align: right;\">\n",
       "      <th></th>\n",
       "      <th>Feature_1</th>\n",
       "      <th>Feature_2</th>\n",
       "      <th>Target</th>\n",
       "    </tr>\n",
       "  </thead>\n",
       "  <tbody>\n",
       "    <tr>\n",
       "      <th>565</th>\n",
       "      <td>-0.636620</td>\n",
       "      <td>-0.907073</td>\n",
       "      <td>1</td>\n",
       "    </tr>\n",
       "    <tr>\n",
       "      <th>939</th>\n",
       "      <td>-1.197124</td>\n",
       "      <td>0.442088</td>\n",
       "      <td>1</td>\n",
       "    </tr>\n",
       "    <tr>\n",
       "      <th>147</th>\n",
       "      <td>-2.111818</td>\n",
       "      <td>0.612107</td>\n",
       "      <td>1</td>\n",
       "    </tr>\n",
       "    <tr>\n",
       "      <th>735</th>\n",
       "      <td>1.004740</td>\n",
       "      <td>-0.738081</td>\n",
       "      <td>1</td>\n",
       "    </tr>\n",
       "    <tr>\n",
       "      <th>638</th>\n",
       "      <td>1.634685</td>\n",
       "      <td>-0.889353</td>\n",
       "      <td>1</td>\n",
       "    </tr>\n",
       "  </tbody>\n",
       "</table>\n",
       "</div>"
      ],
      "text/plain": [
       "     Feature_1  Feature_2  Target\n",
       "565  -0.636620  -0.907073       1\n",
       "939  -1.197124   0.442088       1\n",
       "147  -2.111818   0.612107       1\n",
       "735   1.004740  -0.738081       1\n",
       "638   1.634685  -0.889353       1"
      ]
     },
     "execution_count": 15,
     "metadata": {},
     "output_type": "execute_result"
    }
   ],
   "source": [
    "df_minority_upsampled.head()"
   ]
  },
  {
   "cell_type": "code",
   "execution_count": 16,
   "id": "15df0ad4-0457-42f9-a24e-4ad206c89137",
   "metadata": {},
   "outputs": [],
   "source": [
    "df_upsampled=pd.concat([df_majority,df_minority_upsampled])"
   ]
  },
  {
   "cell_type": "code",
   "execution_count": 19,
   "id": "eaa84289-1b91-4547-a9ba-b4615c04d4fa",
   "metadata": {},
   "outputs": [
    {
     "data": {
      "text/plain": [
       "Target\n",
       "0    900\n",
       "1    900\n",
       "Name: count, dtype: int64"
      ]
     },
     "execution_count": 19,
     "metadata": {},
     "output_type": "execute_result"
    }
   ],
   "source": [
    "df_upsampled['Target'].value_counts()"
   ]
  },
  {
   "cell_type": "markdown",
   "id": "06edea31-ed22-458f-baf5-bf34f71c7db0",
   "metadata": {},
   "source": [
    "## Down Sampling Technique"
   ]
  },
  {
   "cell_type": "code",
   "execution_count": 20,
   "id": "1d270e63-1d37-4b97-a00d-aab512ca842c",
   "metadata": {},
   "outputs": [
    {
     "name": "stdout",
     "output_type": "stream",
     "text": [
      "Target\n",
      "0    900\n",
      "1    100\n",
      "Name: count, dtype: int64\n"
     ]
    }
   ],
   "source": [
    "#creating imbalanced dataset\n",
    "import pandas as pd\n",
    "import numpy as np\n",
    "\n",
    "# Create an imbalanced dataset with 90% of Class 0 and 10% of Class 1\n",
    "data = pd.DataFrame({\n",
    "    'Feature_1': np.random.normal(0, 1, 1000),\n",
    "    'Feature_2': np.random.normal(0, 1, 1000),\n",
    "    'Target': [0] * 900 + [1] * 100  # 900 samples of Class 0, 100 samples of Class 1\n",
    "})\n",
    "\n",
    "# Shuffle the dataset\n",
    "data = data.sample(frac=1, random_state=1).reset_index(drop=True)\n",
    "\n",
    "# Display the class distribution\n",
    "print(data['Target'].value_counts())"
   ]
  },
  {
   "cell_type": "code",
   "execution_count": 21,
   "id": "6c1e1547-1081-4d20-b11e-fb1d23776e7b",
   "metadata": {},
   "outputs": [],
   "source": [
    "df_minority=data[data['Target']==1]\n",
    "df_majority=data[data['Target']==0]"
   ]
  },
  {
   "cell_type": "code",
   "execution_count": 22,
   "id": "1cdb1384-5bda-460c-8ae9-577c1ec36167",
   "metadata": {},
   "outputs": [],
   "source": [
    "df_majority_downsampled= resample(df_majority,replace=False, #sample with replacement\n",
    "          n_samples=len(df_minority),\n",
    "          random_state=42                     \n",
    ")"
   ]
  },
  {
   "cell_type": "code",
   "execution_count": 24,
   "id": "a01627bc-16de-4101-93bc-67847157a6c7",
   "metadata": {},
   "outputs": [
    {
     "data": {
      "text/plain": [
       "(100, 3)"
      ]
     },
     "execution_count": 24,
     "metadata": {},
     "output_type": "execute_result"
    }
   ],
   "source": [
    "df_majority_downsampled.shape"
   ]
  },
  {
   "cell_type": "code",
   "execution_count": 25,
   "id": "cf17682f-e7b8-4420-988f-908b99c80e4b",
   "metadata": {},
   "outputs": [],
   "source": [
    "df_downsampled=pd.concat([df_minority,df_majority_downsampled])"
   ]
  },
  {
   "cell_type": "code",
   "execution_count": 27,
   "id": "fa44b48c-16c4-40fb-bffc-156accb1ab3a",
   "metadata": {},
   "outputs": [
    {
     "data": {
      "text/plain": [
       "Target\n",
       "1    100\n",
       "0    100\n",
       "Name: count, dtype: int64"
      ]
     },
     "execution_count": 27,
     "metadata": {},
     "output_type": "execute_result"
    }
   ],
   "source": [
    "df_downsampled.Target.value_counts()"
   ]
  },
  {
   "cell_type": "code",
   "execution_count": null,
   "id": "bfd1785e-2808-48d7-9e01-0846043c0c66",
   "metadata": {},
   "outputs": [],
   "source": []
  }
 ],
 "metadata": {
  "kernelspec": {
   "display_name": "Python 3 (ipykernel)",
   "language": "python",
   "name": "python3"
  },
  "language_info": {
   "codemirror_mode": {
    "name": "ipython",
    "version": 3
   },
   "file_extension": ".py",
   "mimetype": "text/x-python",
   "name": "python",
   "nbconvert_exporter": "python",
   "pygments_lexer": "ipython3",
   "version": "3.13.0"
  }
 },
 "nbformat": 4,
 "nbformat_minor": 5
}
